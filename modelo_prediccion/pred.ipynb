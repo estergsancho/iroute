{
 "cells": [
  {
   "cell_type": "markdown",
   "metadata": {},
   "source": [
    "# Modelo para App"
   ]
  },
  {
   "cell_type": "markdown",
   "metadata": {},
   "source": [
    "Librerías y extracción de datos"
   ]
  },
  {
   "cell_type": "code",
   "execution_count": 4,
   "metadata": {},
   "outputs": [
    {
     "name": "stderr",
     "output_type": "stream",
     "text": [
      "IProgress not found. Please update jupyter and ipywidgets. See https://ipywidgets.readthedocs.io/en/stable/user_install.html\n"
     ]
    }
   ],
   "source": [
    "import pandas as pd\n",
    "import numpy as np\n",
    "\n",
    "from sklearn.model_selection import TimeSeriesSplit, cross_val_score\n",
    "from sklearn.preprocessing import StandardScaler\n",
    "from sklearn.pipeline import Pipeline\n",
    "from sklearn.metrics import mean_absolute_error\n",
    "import matplotlib.pyplot as plt\n",
    "from sklearn.model_selection import train_test_split\n",
    "import tensorflow as tf\n",
    "from tensorflow.keras.models import Sequential\n",
    "from tensorflow.keras.layers import LSTM, Dense,Dropout\n",
    "from tensorflow.keras.utils import plot_model\n",
    "\n",
    "import pickle\n",
    "\n",
    "import shap\n",
    "import xgboost as xgb\n",
    "import seaborn as sns\n",
    "import joblib\n"
   ]
  },
  {
   "cell_type": "code",
   "execution_count": 5,
   "metadata": {},
   "outputs": [],
   "source": [
    "# DF\n",
    "data = pd.read_csv('dataframe_con_info_adicional.csv')\n",
    "\n",
    "# 'hora_llegada' in datetime format\n",
    "data['hora_llegada'] = pd.to_datetime(data['hora_llegada'])\n",
    "\n",
    "# adding 'hora_llegada' to 'dia_semana'\n",
    "data['dia_semana'] = data['hora_llegada'].dt.dayofweek\n",
    "\n",
    "# features and target\n",
    "features = ['nivel_trafico', 'clima', 'accidente', 'es_hora_punta', 'dia_del_ano', 'distancia', 'es_festivo', 'dia_semana']\n",
    "target = 'retraso'\n",
    "\n",
    "X = data[features]\n",
    "y = data[target]\n",
    "\n",
    "# Train/test split\n",
    "X_train, X_test, y_train, y_test = train_test_split(X, y, test_size=0.2, shuffle=False)\n",
    "\n",
    "#  Data scalar\n",
    "scaler = StandardScaler()\n",
    "X_train_scaled = scaler.fit_transform(X_train)\n",
    "X_test_scaled = scaler.transform(X_test)\n",
    "#X_train_scaled=X_train\n",
    "#X_test_scaled=X_test"
   ]
  },
  {
   "cell_type": "code",
   "execution_count": 6,
   "metadata": {},
   "outputs": [
    {
     "data": {
      "text/html": [
       "<div>\n",
       "<style scoped>\n",
       "    .dataframe tbody tr th:only-of-type {\n",
       "        vertical-align: middle;\n",
       "    }\n",
       "\n",
       "    .dataframe tbody tr th {\n",
       "        vertical-align: top;\n",
       "    }\n",
       "\n",
       "    .dataframe thead th {\n",
       "        text-align: right;\n",
       "    }\n",
       "</style>\n",
       "<table border=\"1\" class=\"dataframe\">\n",
       "  <thead>\n",
       "    <tr style=\"text-align: right;\">\n",
       "      <th></th>\n",
       "      <th>bus_id</th>\n",
       "      <th>nivel_trafico</th>\n",
       "      <th>clima</th>\n",
       "      <th>accidente</th>\n",
       "      <th>hora_llegada</th>\n",
       "      <th>es_hora_punta</th>\n",
       "      <th>dia_del_ano</th>\n",
       "      <th>distancia</th>\n",
       "      <th>es_festivo</th>\n",
       "      <th>dia_de_la_semana</th>\n",
       "      <th>retraso</th>\n",
       "      <th>dia_semana</th>\n",
       "    </tr>\n",
       "  </thead>\n",
       "  <tbody>\n",
       "    <tr>\n",
       "      <th>157249</th>\n",
       "      <td>2</td>\n",
       "      <td>0</td>\n",
       "      <td>0</td>\n",
       "      <td>0</td>\n",
       "      <td>2023-12-31</td>\n",
       "      <td>False</td>\n",
       "      <td>365</td>\n",
       "      <td>311.496610</td>\n",
       "      <td>False</td>\n",
       "      <td>6</td>\n",
       "      <td>1</td>\n",
       "      <td>6</td>\n",
       "    </tr>\n",
       "    <tr>\n",
       "      <th>157250</th>\n",
       "      <td>3</td>\n",
       "      <td>0</td>\n",
       "      <td>1</td>\n",
       "      <td>0</td>\n",
       "      <td>2023-12-31</td>\n",
       "      <td>False</td>\n",
       "      <td>365</td>\n",
       "      <td>391.855599</td>\n",
       "      <td>False</td>\n",
       "      <td>6</td>\n",
       "      <td>3</td>\n",
       "      <td>6</td>\n",
       "    </tr>\n",
       "    <tr>\n",
       "      <th>157251</th>\n",
       "      <td>4</td>\n",
       "      <td>0</td>\n",
       "      <td>0</td>\n",
       "      <td>0</td>\n",
       "      <td>2023-12-31</td>\n",
       "      <td>False</td>\n",
       "      <td>365</td>\n",
       "      <td>103.352199</td>\n",
       "      <td>False</td>\n",
       "      <td>6</td>\n",
       "      <td>1</td>\n",
       "      <td>6</td>\n",
       "    </tr>\n",
       "    <tr>\n",
       "      <th>157252</th>\n",
       "      <td>5</td>\n",
       "      <td>0</td>\n",
       "      <td>0</td>\n",
       "      <td>0</td>\n",
       "      <td>2023-12-31</td>\n",
       "      <td>False</td>\n",
       "      <td>365</td>\n",
       "      <td>238.102511</td>\n",
       "      <td>False</td>\n",
       "      <td>6</td>\n",
       "      <td>1</td>\n",
       "      <td>6</td>\n",
       "    </tr>\n",
       "    <tr>\n",
       "      <th>157253</th>\n",
       "      <td>6</td>\n",
       "      <td>0</td>\n",
       "      <td>0</td>\n",
       "      <td>0</td>\n",
       "      <td>2023-12-31</td>\n",
       "      <td>False</td>\n",
       "      <td>365</td>\n",
       "      <td>403.207173</td>\n",
       "      <td>False</td>\n",
       "      <td>6</td>\n",
       "      <td>1</td>\n",
       "      <td>6</td>\n",
       "    </tr>\n",
       "  </tbody>\n",
       "</table>\n",
       "</div>"
      ],
      "text/plain": [
       "        bus_id  nivel_trafico  clima  accidente hora_llegada  es_hora_punta  \\\n",
       "157249       2              0      0          0   2023-12-31          False   \n",
       "157250       3              0      1          0   2023-12-31          False   \n",
       "157251       4              0      0          0   2023-12-31          False   \n",
       "157252       5              0      0          0   2023-12-31          False   \n",
       "157253       6              0      0          0   2023-12-31          False   \n",
       "\n",
       "        dia_del_ano   distancia  es_festivo  dia_de_la_semana  retraso  \\\n",
       "157249          365  311.496610       False                 6        1   \n",
       "157250          365  391.855599       False                 6        3   \n",
       "157251          365  103.352199       False                 6        1   \n",
       "157252          365  238.102511       False                 6        1   \n",
       "157253          365  403.207173       False                 6        1   \n",
       "\n",
       "        dia_semana  \n",
       "157249           6  \n",
       "157250           6  \n",
       "157251           6  \n",
       "157252           6  \n",
       "157253           6  "
      ]
     },
     "execution_count": 6,
     "metadata": {},
     "output_type": "execute_result"
    }
   ],
   "source": [
    "data.tail()"
   ]
  },
  {
   "cell_type": "markdown",
   "metadata": {},
   "source": [
    "El dataframe está compuesto por:\n",
    "* Bus_id: id del bus\n",
    "* Nivel del tráfico: 0 ninguno, 1 poco, 2 mucho\n",
    "* Clima: 0 despejado, 1 malo, 2 terrible\n",
    "* Hora con día de llegada (no sirve para nada, es mas para ordenar los valores generados)\n",
    "* es_hora_punta: si es hora punta o no, si lo es aumenta el retraso\n",
    "* dia_del_ano: como la hora de llegada, para ordenar los datos cuando se generan\n",
    "* es_festivo: si lo es reduce el tráfico\n",
    "* dia_de_la_semana: ortientativo, no sirve para nada\n",
    "* retraso: retraso en minutos producido\n",
    "* dia_semana: si es sabado o domingo no aumenta el tráfico, si es un lunes o viernes lo hace\n"
   ]
  },
  {
   "cell_type": "markdown",
   "metadata": {},
   "source": [
    "## Modelo LSTM"
   ]
  },
  {
   "cell_type": "code",
   "execution_count": null,
   "metadata": {},
   "outputs": [],
   "source": [
    "# Convertir los datos a secuencias para el modelo LSTM\n",
    "def to_sequences(X, y, time_steps=1):\n",
    "    Xs, ys = [], []\n",
    "    for i in range(len(X) - time_steps):\n",
    "        v = X[i:(i + time_steps)]\n",
    "        Xs.append(v)\n",
    "        ys.append(y.iloc[i + time_steps])\n",
    "    return np.array(Xs), np.array(ys)\n",
    "\n",
    "time_steps = 10  # Ajusta según la longitud de la secuencia deseada\n",
    "X_train_seq, y_train_seq = to_sequences(X_train_scaled, y_train, time_steps)\n",
    "X_test_seq, y_test_seq = to_sequences(X_test_scaled, y_test, time_steps)\n",
    "\n",
    "# Crear el modelo LSTM\n",
    "model = Sequential()\n",
    "model.add(LSTM(units=50, activation='relu', input_shape=(X_train_seq.shape[1], X_train_seq.shape[2])))\n",
    "model.add(Dense(1))\n",
    "model.compile(optimizer='adam', loss='mse')\n",
    "\n",
    "with tf.device('/device:GPU:0'):\n",
    "    # Entrenar el modelo\n",
    "    try:\n",
    "        model.load_weights('model_weights_LSTM.h5')\n",
    "        with open('history_LSTM.pkl', 'rb') as file:\n",
    "            history = pickle.load(file)\n",
    "    except (OSError, FileNotFoundError):\n",
    "        # Si no se encuentran los archivos, entrena el modelo y guarda los pesos e historial\n",
    "        history = model.fit(X_train_seq, y_train_seq, epochs=20, batch_size=1000, validation_split=0.1, verbose=1)\n",
    "        model.save_weights('model_weights.h5')\n",
    "        with open('history_LSTM.pkl', 'wb') as file:\n",
    "            pickle.dump(history.history if hasattr(history, 'history') else history, file)\n",
    "\n",
    "# Realizar predicciones en el conjunto de prueba\n",
    "y_pred = model.predict(X_test_seq)\n",
    "\n",
    "# Calcular el error absoluto medio en las predicciones\n",
    "mae = mean_absolute_error(y_test_seq, y_pred)\n",
    "print(f'MAE en el conjunto de prueba: {mae}')"
   ]
  },
  {
   "cell_type": "markdown",
   "metadata": {},
   "source": [
    "## Modelo secuelcial de 6 capas con regularización"
   ]
  },
  {
   "cell_type": "code",
   "execution_count": null,
   "metadata": {},
   "outputs": [],
   "source": [
    "# Convertir a tensores de TensorFlow\n",
    "X_train_tensor = tf.constant(X_train_scaled, dtype=tf.float32)\n",
    "y_train_tensor = tf.constant(y_train.values, dtype=tf.float32)\n",
    "X_test_tensor = tf.constant(X_test_scaled, dtype=tf.float32)\n",
    "\n",
    "# Crear y entrenar un modelo de regresión lineal con TensorFlow GPU\n",
    "model = Sequential([\n",
    "    Dense(128, activation='relu', input_shape=(X_train.shape[1],)),\n",
    "    Dropout(0.5),  # Agregar Dropout para regularización\n",
    "    Dense(64, activation='relu'),\n",
    "    Dropout(0.5),  # Agregar Dropout para regularización\n",
    "    Dense(32, activation='relu'),\n",
    "    Dense(1)  # Capa de salida para regresión\n",
    "])\n",
    "model.compile(optimizer='adam', loss='mse')\n",
    "\n",
    "\n",
    "with tf.device('/device:GPU:0'):\n",
    "    # Entrenar el modelo\n",
    "    try:\n",
    "        model.load_weights('model_weights_6_layers.h5')\n",
    "        with open('history_R.pkl', 'rb') as file:\n",
    "            history = pickle.load(file)\n",
    "    except (OSError, FileNotFoundError):\n",
    "        # Si no se encuentran los archivos, entrena el modelo y guarda los pesos e historial\n",
    "        history = model.fit(X_train_tensor, y_train_tensor, epochs=30, batch_size=1000, validation_split=0.1, verbose=1)\n",
    "        model.save_weights('model_weights_R.h5')\n",
    "        with open('history_R.pkl', 'wb') as file:\n",
    "            pickle.dump(history.history if hasattr(history, 'history') else history, file)\n",
    "\n",
    "\n",
    "\n",
    "# Realizar predicciones en el conjunto de prueba\n",
    "y_pred = model.predict(X_test_tensor).flatten()\n",
    "\n",
    "# Calcular el error absoluto medio en las predicciones\n",
    "mae = mean_absolute_error(y_test, y_pred)\n",
    "print(f'MAE en el conjunto de prueba: {mae}')"
   ]
  },
  {
   "cell_type": "markdown",
   "metadata": {},
   "source": [
    "## XGBOOST"
   ]
  },
  {
   "cell_type": "code",
   "execution_count": 14,
   "metadata": {},
   "outputs": [
    {
     "name": "stderr",
     "output_type": "stream",
     "text": [
      "is_sparse is deprecated and will be removed in a future version. Check `isinstance(dtype, pd.SparseDtype)` instead.\n"
     ]
    },
    {
     "data": {
      "text/plain": [
       "['xgboost_model.joblib']"
      ]
     },
     "execution_count": 14,
     "metadata": {},
     "output_type": "execute_result"
    }
   ],
   "source": [
    "# Initial parameters\n",
    "xgb_params = {\n",
    "    'tree_method': 'gpu_hist',          # Use of a GPU to accelerate the process\n",
    "    'gpu_id': 0,                        # GPU ID\n",
    "    'objective': 'reg:squarederror',    # Indicates a Regression problem\n",
    "    'min_child_weight': 0.1,            # Minimum weight required in a leaf node of the tree\n",
    "    'learning_rate': 0.05,              # Moderate learning rate\n",
    "    'n_estimators': 10000,              # Initial number of trees\n",
    "    'max_depth': 100,                   # Maximum depth of the trees\n",
    "    'subsample': 0.9,                   # Use 90% of the samples to fit each tree\n",
    "    'colsample_bytree': 0.1,            # Use 10% of the columns to fit each tree\n",
    "    'gamma': 0.1,                       # Moderated regularization\n",
    "    'random_state': 42,                 # Random seed for reproducibility\n",
    "    'reg_alpha': 0.1,\n",
    "    'reg_lambda': 0.1\n",
    "}\n",
    "\n",
    "xgb_model = xgb.XGBRegressor(**xgb_params)\n",
    "xgb_model.fit(X_train_scaled, y_train)\n",
    "\n",
    "# Save model\n",
    "model_filename = 'xgboost_model.joblib'\n",
    "joblib.dump(xgb_model, model_filename)\n"
   ]
  },
  {
   "cell_type": "code",
   "execution_count": 15,
   "metadata": {},
   "outputs": [
    {
     "data": {
      "image/png": "[encoded data removed]",
      "text/plain": [
       "<Figure size 800x470 with 2 Axes>"
      ]
     },
     "metadata": {},
     "output_type": "display_data"
    }
   ],
   "source": [
    "# Using SHAP values for Explainability\n",
    "explainer = shap.Explainer(xgb_model)\n",
    "\n",
    "# Getting SHAP values\n",
    "shap_values = explainer.shap_values(X_test_scaled)\n",
    "\n",
    "# Waterfall graph\n",
    "sample_ind = 0\n",
    "shap.summary_plot(shap_values, X_test_scaled, feature_names=features, show=False)\n",
    "plt.show()"
   ]
  },
  {
   "cell_type": "code",
   "execution_count": 36,
   "metadata": {},
   "outputs": [
    {
     "name": "stdout",
     "output_type": "stream",
     "text": [
      "Prediction for the input parameters: 1.7369762659072876\n"
     ]
    },
    {
     "name": "stderr",
     "output_type": "stream",
     "text": [
      "X does not have valid feature names, but StandardScaler was fitted with feature names\n"
     ]
    }
   ],
   "source": [
    "# Load the saved model\n",
    "loaded_model = joblib.load(model_filename)\n",
    "\n",
    "# Define the input parameters for prediction\n",
    "#features = ['nivel_trafico', 'clima', 'accidente', 'es_hora_punta', 'dia_del_ano', 'distancia', 'es_festivo', 'dia_semana']\n",
    "sample_input_params = np.array([[1, 0, 0,False,100,200,False,3]])\n",
    "\n",
    "# Scale the input parameters if needed (use the same scaler you used for training)\n",
    "scaled_sample_input_params = scaler.transform(sample_input_params)\n",
    "\n",
    "# Make a prediction\n",
    "prediction = loaded_model.predict(sample_input_params)\n",
    "\n",
    "# Print the prediction\n",
    "print(f'Prediction for the input parameters: {prediction[0]}')"
   ]
  },
  {
   "cell_type": "code",
   "execution_count": 37,
   "metadata": {},
   "outputs": [
    {
     "data": {
      "image/png": "[encoded data removed]",
      "text/plain": [
       "<Figure size 640x480 with 1 Axes>"
      ]
     },
     "metadata": {},
     "output_type": "display_data"
    }
   ],
   "source": [
    "# Get feature importances\n",
    "feature_importances = loaded_model.feature_importances_\n",
    "\n",
    "# Visualize feature importances\n",
    "import matplotlib.pyplot as plt\n",
    "import seaborn as sns\n",
    "\n",
    "sns.barplot(x=feature_importances, y=X.columns)\n",
    "plt.show()"
   ]
  },
  {
   "cell_type": "markdown",
   "metadata": {},
   "source": [
    "### Learning curve"
   ]
  },
  {
   "cell_type": "code",
   "execution_count": null,
   "metadata": {},
   "outputs": [],
   "source": [
    "import numpy as np\n",
    "import matplotlib.pyplot as plt\n",
    "from sklearn.model_selection import learning_curve\n",
    "\n",
    "# Suponiendo que tienes X_train_scaled e y_train ya definidos\n",
    "\n",
    "# Función para graficar la curva de aprendizaje\n",
    "def plot_learning_curve(estimator, title, X, y, ylim=None, cv=None,\n",
    "                        n_jobs=-1, train_sizes=np.linspace(.1, 1.0, 5)):\n",
    "    plt.figure()\n",
    "    plt.title(title)\n",
    "    if ylim is not None:\n",
    "        plt.ylim(*ylim)\n",
    "    plt.xlabel(\"Training examples\")\n",
    "    plt.ylabel(\"Mean Squared Error\")\n",
    "    train_sizes, train_scores, test_scores = learning_curve(\n",
    "        estimator, X, y, cv=cv, n_jobs=n_jobs, train_sizes=train_sizes, scoring='neg_mean_squared_error')\n",
    "    train_scores_mean = np.mean(train_scores, axis=1)\n",
    "    train_scores_std = np.std(train_scores, axis=1)\n",
    "    test_scores_mean = np.mean(test_scores, axis=1)\n",
    "    test_scores_std = np.std(test_scores, axis=1)\n",
    "    plt.grid()\n",
    "\n",
    "    plt.fill_between(train_sizes, train_scores_mean - train_scores_std,\n",
    "                     train_scores_mean + train_scores_std, alpha=0.1,\n",
    "                     color=\"r\")\n",
    "    plt.fill_between(train_sizes, test_scores_mean - test_scores_std,\n",
    "                     test_scores_mean + test_scores_std, alpha=0.1, color=\"g\")\n",
    "    plt.plot(train_sizes, train_scores_mean, 'o-', color=\"r\",\n",
    "             label=\"Training score\")\n",
    "    plt.plot(train_sizes, test_scores_mean, 'o-', color=\"g\",\n",
    "             label=\"Cross-validation score\")\n",
    "\n",
    "    plt.legend(loc=\"best\")\n",
    "    return plt\n",
    "\n",
    "# Graficar la curva de aprendizaje\n",
    "title = \"Learning Curves (XGBoost)\"\n",
    "cv = 5  # Número de folds para validación cruzada\n",
    "plot_learning_curve(xgb_model, title, X_train_scaled[::30000], y_train[::30000], ylim=(0, 1.01), cv=cv, n_jobs=-1)\n",
    "\n",
    "plt.show()\n"
   ]
  },
  {
   "cell_type": "markdown",
   "metadata": {},
   "source": [
    "### Metrics"
   ]
  },
  {
   "cell_type": "code",
   "execution_count": 35,
   "metadata": {},
   "outputs": [
    {
     "name": "stdout",
     "output_type": "stream",
     "text": [
      "Mean Absolute Error: 0.9966389338812308\n",
      "Mean Squared Error: 2.473548011705149\n",
      "R-squared: 0.9005591535985401\n",
      "Accuracy: 0.5768020094750564\n"
     ]
    }
   ],
   "source": [
    "from sklearn.metrics import mean_absolute_error,mean_squared_error,r2_score,accuracy_score, confusion_matrix,classification_report\n",
    "y_pred = xgb_model.predict(X_test_scaled)\n",
    "mae = mean_absolute_error(y_test, y_pred)\n",
    "print(f'Mean Absolute Error: {mae}')\n",
    "\n",
    "mse = mean_squared_error(y_test, y_pred)\n",
    "print(f'Mean Squared Error: {mse}')\n",
    "\n",
    "r2 = r2_score(y_test, y_pred)\n",
    "print(f'R-squared: {r2}')"
   ]
  },
  {
   "cell_type": "markdown",
   "metadata": {},
   "source": [
    "    Un MAE de aproximadamente 0.9966 indica un buen rendimiento, especialmente si los retrasos son típicamente bajos (1 a 10 minutos).\n",
    "    \n",
    "    Un MSE de 2.4735 muestra una varianza más alta en los errores, pero teniendo en cuenta que los datos se han generado de forma aleatoria, teniendo casos donde despunta el retraso, se puede decir que el resultado es es esperado\n",
    "\n",
    "    Un R^2 de 0.9006 sugiere un buen ajuste del modelo a los datos, explicando una gran parte de la variabilidad en los retrasos."
   ]
  },
  {
   "cell_type": "code",
   "execution_count": null,
   "metadata": {},
   "outputs": [],
   "source": [
    "# Visualizar cómo se comporta cada característica en el proceso de decisión\n",
    "for feature in features:\n",
    "    plt.figure(figsize=(8, 4))\n",
    "    plt.scatter(X_test[feature], y_test, label='Real', alpha=0.5)\n",
    "    plt.scatter(X_test[feature], y_pred, label='Predicción', alpha=0.5)\n",
    "    plt.title(f'{feature} vs. Retraso')\n",
    "    plt.xlabel(feature)\n",
    "    plt.ylabel('Retraso')\n",
    "    plt.legend()\n",
    "    plt.show()"
   ]
  }
 ],
 "metadata": {
  "kernelspec": {
   "display_name": "tensorflowgpu",
   "language": "python",
   "name": "python3"
  },
  "language_info": {
   "codemirror_mode": {
    "name": "ipython",
    "version": 3
   },
   "file_extension": ".py",
   "mimetype": "text/x-python",
   "name": "python",
   "nbconvert_exporter": "python",
   "pygments_lexer": "ipython3",
   "version": "3.10.13"
  }
 },
 "nbformat": 4,
 "nbformat_minor": 2
}
